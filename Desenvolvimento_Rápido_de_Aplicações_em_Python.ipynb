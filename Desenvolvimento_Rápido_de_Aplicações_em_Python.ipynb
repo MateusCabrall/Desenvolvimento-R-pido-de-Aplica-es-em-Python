{
  "cells": [
    {
      "cell_type": "markdown",
      "metadata": {
        "id": "8sPLqBVVQPGS"
      },
      "source": [
        "Desenvolva um programa em Python que escreva em disco um arquivo com números ordenados\n",
        "crescentemente de 1 a 100. Cada número deve ser separado por “;”. O arquivo deve se chamar\n",
        "“crescente.txt\n"
      ]
    },
    {
      "cell_type": "code",
      "execution_count": null,
      "metadata": {
        "id": "3KxQkPLeQP8f"
      },
      "outputs": [],
      "source": [
        "def gerar_arquivo_crescente():\n",
        "    with open(\"crescente.txt\", \"w\") as file:\n",
        "        numeros = \";\".join(str(i) for i in range(1, 101))\n",
        "        file.write(numeros)\n",
        "\n",
        "# Chamar a função para gerar o arquivo\n",
        "gerar_arquivo_crescente()\n"
      ]
    },
    {
      "cell_type": "markdown",
      "metadata": {
        "id": "2BoLGYTvQcEM"
      },
      "source": [
        "Desenvolver uma solução capaz de\n",
        "persistir (inserir) e ler os dados de notas de alunos em arquivos.\n",
        "O programa deve registrar o nome, email e curso do aluno.\n",
        "- Cada novo registro deve ser armazenado em arquivo.\n",
        "- O usuário deve ter as seguintes opções:\n",
        "- Cadastrar um novo aluno.\n",
        "- Listar os alunos cadastrados.\n",
        "- Buscar um aluno pelo nome.\n",
        "Sistema de registro de notas de alunos:"
      ]
    },
    {
      "cell_type": "code",
      "execution_count": null,
      "metadata": {
        "id": "3ovGFO_bQRew"
      },
      "outputs": [],
      "source": [
        "import os\n",
        "\n",
        "# Nome do arquivo onde os dados serão armazenados\n",
        "ARQUIVO_ALUNOS = \"alunos.txt\"\n",
        "\n",
        "# Função para cadastrar um novo aluno\n",
        "def cadastrar_aluno():\n",
        "    nome = input(\"Nome do aluno: \")\n",
        "    email = input(\"Email do aluno: \")\n",
        "    curso = input(\"Curso do aluno: \")\n",
        "\n",
        "    with open(ARQUIVO_ALUNOS, \"a\") as file:\n",
        "        file.write(f\"{nome};{email};{curso}\\n\")\n",
        "\n",
        "    print(\"Aluno cadastrado com sucesso!\")"
      ]
    },
    {
      "cell_type": "code",
      "execution_count": null,
      "metadata": {
        "id": "h7qDuQD0QhvA"
      },
      "outputs": [],
      "source": [
        "# Função para listar todos os alunos cadastrados\n",
        "def listar_alunos():\n",
        "    if os.path.exists(ARQUIVO_ALUNOS):\n",
        "        with open(ARQUIVO_ALUNOS, \"r\") as file:\n",
        "            alunos = file.readlines()\n",
        "\n",
        "        if alunos:\n",
        "            print(\"Lista de Alunos:\")\n",
        "            for aluno in alunos:\n",
        "                nome, email, curso = aluno.strip().split(\";\")\n",
        "                print(f\"Nome: {nome}, Email: {email}, Curso: {curso}\")\n",
        "        else:\n",
        "            print(\"Nenhum aluno cadastrado.\")\n",
        "    else:\n",
        "        print(\"Nenhum aluno cadastrado.\")"
      ]
    },
    {
      "cell_type": "code",
      "execution_count": null,
      "metadata": {
        "id": "6SV2-isuQqiA"
      },
      "outputs": [],
      "source": [
        "# Função para buscar um aluno pelo nome\n",
        "def buscar_aluno():\n",
        "    nome_busca = input(\"Digite o nome do aluno que deseja buscar: \").lower()\n",
        "    encontrado = False\n",
        "\n",
        "    if os.path.exists(ARQUIVO_ALUNOS):\n",
        "        with open(ARQUIVO_ALUNOS, \"r\") as file:\n",
        "            for aluno in file:\n",
        "                nome, email, curso = aluno.strip().split(\";\")\n",
        "                if nome.lower() == nome_busca:\n",
        "                    print(f\"Aluno encontrado: Nome: {nome}, Email: {email}, Curso: {curso}\")\n",
        "                    encontrado = True\n",
        "                    break\n",
        "\n",
        "    if not encontrado:\n",
        "        print(\"Aluno não encontrado.\")"
      ]
    },
    {
      "cell_type": "code",
      "execution_count": null,
      "metadata": {
        "colab": {
          "background_save": true,
          "base_uri": "https://localhost:8080/"
        },
        "id": "sLQJtKO4QxYR",
        "outputId": "6af8c533-4140-4c15-c1fc-402396b4665d"
      },
      "outputs": [
        {
          "name": "stdout",
          "output_type": "stream",
          "text": [
            "\n",
            "Sistema de Registro de Alunos\n",
            "1. Cadastrar um novo aluno\n",
            "2. Listar todos os alunos\n",
            "3. Buscar um aluno pelo nome\n",
            "4. Sair\n"
          ]
        }
      ],
      "source": [
        "# Função principal que gerencia as opções do usuário\n",
        "def menu():\n",
        "    while True:\n",
        "        print(\"\\nSistema de Registro de Alunos\")\n",
        "        print(\"1. Cadastrar um novo aluno\")\n",
        "        print(\"2. Listar todos os alunos\")\n",
        "        print(\"3. Buscar um aluno pelo nome\")\n",
        "        print(\"4. Sair\")\n",
        "        opcao = input(\"Escolha uma opção: \")\n",
        "\n",
        "        if opcao == \"1\":\n",
        "            cadastrar_aluno()\n",
        "        elif opcao == \"2\":\n",
        "            listar_alunos()\n",
        "        elif opcao == \"3\":\n",
        "            buscar_aluno()\n",
        "        elif opcao == \"4\":\n",
        "            print(\"Saindo...\")\n",
        "            break\n",
        "        else:\n",
        "            print(\"Opção inválida. Tente novamente.\")\n",
        "\n",
        "# Executar o menu\n",
        "menu()"
      ]
    },
    {
      "cell_type": "code",
      "execution_count": null,
      "metadata": {
        "id": "KG8-JgNgQ1AA"
      },
      "outputs": [],
      "source": []
    }
  ],
  "metadata": {
    "colab": {
      "provenance": [],
      "toc_visible": true
    },
    "kernelspec": {
      "display_name": "Python 3",
      "name": "python3"
    },
    "language_info": {
      "name": "python"
    }
  },
  "nbformat": 4,
  "nbformat_minor": 0
}