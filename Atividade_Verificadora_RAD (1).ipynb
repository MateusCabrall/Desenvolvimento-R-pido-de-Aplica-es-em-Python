{
  "nbformat": 4,
  "nbformat_minor": 0,
  "metadata": {
    "colab": {
      "provenance": []
    },
    "kernelspec": {
      "name": "python3",
      "display_name": "Python 3"
    },
    "language_info": {
      "name": "python"
    }
  },
  "cells": [
    {
      "cell_type": "markdown",
      "source": [
        "**Aula 1**"
      ],
      "metadata": {
        "id": "GpzNId0GHVMB"
      }
    },
    {
      "cell_type": "markdown",
      "source": [
        "Questão 1) IADES 2018 ARCON (PA) Assistente Técnico em Regulação de Serviços Públicos Provas:\n",
        "Uma das técnicas de licitação de requisitos tem foco na promoção da cooperação, de\n",
        "entendimento e de trabalho em grupo entre os desenvolvedores, gerando uma visão compartilhada\n",
        "do que o produto deve ser. Essa técnica é conhecida como :\n",
        "\n",
        "<font color=\"red\">R: JAD (Joint Application Development)\n",
        "\n"
      ],
      "metadata": {
        "id": "ktzhWbOJHiha"
      }
    },
    {
      "cell_type": "markdown",
      "source": [
        "Questão 2) FJPF 2006 CONAB FJPF Analista de Sistemas:\n",
        "O modelo de processo de desenvolvimento de software incremental que enfatiza um ciclo de desenvolvimento extremamente curto, que compreende as fases de modelagem do negócio, modelagem dos dados, modelagem do processo, geração da aplicação, além de teste e entrega, e que o desenvolvimento é conseguido pelo uso de construção baseada em componentes, é conhecido como modelo:\n",
        "\n",
        "<font color=\"red\"> R:  RAD (Rapid Application Development).</font>"
      ],
      "metadata": {
        "id": "ALs3jr_OHoOp"
      }
    },
    {
      "cell_type": "markdown",
      "source": [
        "**Aula 2**"
      ],
      "metadata": {
        "id": "EyvXZFopR_Dd"
      }
    },
    {
      "cell_type": "markdown",
      "source": [
        "A metodologia RAD (Rapid Application Development) possui várias vantagens em relação aos métodos tradicionais de desenvolvimento de software. No entanto, uma opção que NÃO é uma vantagem da metodologia RAD é:\n",
        "\n",
        "a) Integração antecipada do sistema e redução de riscos.\n",
        "\n",
        "b) Adaptabilidade e compartimentação dos componentes do sistema.\n",
        "\n",
        "c) Versões iterativas e menor tempo de colocação no mercado.\n",
        "\n",
        "d) Feedback constante do usuário.\n",
        "\n",
        "e) Ter como pré-requisito equipes tecnicamente muito qualificadas.\n",
        "\n",
        "<font color=\"red\"> R: Letra E"
      ],
      "metadata": {
        "id": "dlxWU2JhHoD6"
      }
    },
    {
      "cell_type": "markdown",
      "source": [
        "Questão 2) Para que a RAD possa cumprir o seu objetivo que é o de reduzir o tempo de entrega de produtos, ela precisa de ferramentas que facilitem o desenvolvimento de software. Um dos recursos mais importantes para atingir tal objetivo é o uso de framework. Em relação aos frameworks para desenvolvimento de aplicações RAD, selecione a opção CORRETA:\n",
        "\n",
        "a) A escolha de um framework sempre deve levar em consideração as necessidades do projeto que se deseja implementar. Portanto essa escolha tem que estar baseada nas bibliotecas, documentação disponível e a linguagem de programação disponibilizadas para desenvolver o projeto.\n",
        "\n",
        "b) Independe da linguagem de programação escolhida é essencial que tenha como base o Python por se tratar de uma linguagem moderna e bem documentada.\n",
        "\n",
        "c) Atualmente, qualquer projeto precisa levar em consideração o modelo cliente-servidor, portanto a escolha do framework deve levar isso em consideração.\n",
        "\n",
        "d) Qualquer projeto RAD implementado em Python deve utilizar os frameworks Tkinter e Django.\n",
        "\n",
        "e) A escolha de um framework não deve levar em consideração as necessidades do projeto que se deseja implementar. Ela tem que estar baseada nas bibliotecas, documentação disponível e a linguagem de programação disponibilizadas para desenvolver o projeto\n",
        "\n",
        "<font color=\"red\"> R: Letra A"
      ],
      "metadata": {
        "id": "C9-cOlgwHn9c"
      }
    },
    {
      "cell_type": "markdown",
      "source": [
        "**Aula 3**"
      ],
      "metadata": {
        "id": "ki-wlyWdSCaO"
      }
    },
    {
      "cell_type": "markdown",
      "source": [
        "Questão 1) Existem dois modos de se trabalhar com arquivos, onde um é adequado para trabalhar com arquivos que contêm imagem, som e vídeo, dentre outros, o segundo modo pode ser aberto em qualquer editor básico e ser editado, esses modos são:\n",
        "\n",
        "a) Sequencial e Texto\n",
        "\n",
        "b) Binário e Texto\n",
        "\n",
        "c) Multimidia e Binário\n",
        "\n",
        "d) Texto e Stream\n",
        "\n",
        "e) Multimidia e Stream\n",
        "\n",
        "<font color=\"red\"> R: Letra A"
      ],
      "metadata": {
        "id": "gGxD2U_hHn3B"
      }
    },
    {
      "cell_type": "markdown",
      "source": [
        "Questão 2) O Python conta com recursos voltados à gravação e à leitura de arquivos, sejam eles binários ou texto. Nos arquivos do tipo texto a primeira providência é abrir o arquivo utilizando o método:\n",
        "\n",
        "a) open(\"nome_arquivo\",w)\n",
        "\n",
        "b) abrir(\"nome_arquivo\",r)\n",
        "\n",
        "c) read(\"nome_arquivo\",+wr)\n",
        "\n",
        "d) get(\"nome_arquivo\",w)\n",
        "\n",
        "e) readline(\"nome_arquivo\",r)\n",
        "\n",
        "<font color=\"red\"> R: Letra A"
      ],
      "metadata": {
        "id": "UCiJTjC1RXOW"
      }
    },
    {
      "cell_type": "markdown",
      "source": [
        "**Aula 4**"
      ],
      "metadata": {
        "id": "Cs9k-YUfUZ8x"
      }
    },
    {
      "cell_type": "markdown",
      "source": [
        "A interpolação de String é uma caracteristica bastante útil quando queremos fazer uma substituiçõ dentro de um texto. O python trta a interpolação de String de modo a facilitar o trabalho do desenvolvedor.\n",
        "A respeito da interpolação de String no Python 3, selecione a opção correta:\n",
        "\n",
        "a) Pode ser feita com @ (arroba), ou com $ (Cifrão)\n",
        "\n",
        "b) Podemos aplicar usar $ (Cifrão), ou # (Hashtag)\n",
        "\n",
        "c) O modo correto é usado # (Hashtag), ou % (percentual)\n",
        "\n",
        "d) A forma é usando % (percentual), ou {} (chaves)\n",
        "\n",
        "e) Podemos utilizar {} (chaves), ou \" (Aspas duplas)\n",
        "\n",
        "<font color=\"red\">  R: Letra D"
      ],
      "metadata": {
        "id": "fLqea8JWURMP"
      }
    },
    {
      "cell_type": "markdown",
      "source": [
        "Questão 2) As operações com arquivos são fundamentais na programação, pois os arquivos são um recurso muito útil para manter a persistência de dados. O Python oferece comandos que permitem que os desenvolvedores possam fazer essas manipulações.\n",
        "A respeito da manipulação de arquivos no Python, selecione a opção CORRETA :\n",
        "\n",
        "a) Para que um programa que manipula arquivos funcione é necessário fazer o tratamento de exceções.\n",
        "\n",
        "b) Apesar de não ser obrigatório o tratamento de exceções, ele deve ser usado sempre para evitar problemas ao longo da execução do programa\n",
        "\n",
        "c) Por se tratar de um recurso que já faz parte do Python padrão, o tratamento de exceções não énecessário.\n",
        "\n",
        "d) Para abrir um arquivo texto, por exemplo, sempre é necessário verificar se ele não está corrompido antes, pois, caso contrário, pode gerar incosistência no programa.\n",
        "\n",
        "e) Os arquivos podem gerar muitos problemas, portanto são um recurso de uso apenas didático. Apificação reais são desenvolvidas com banco de dados.\n",
        "\n",
        "<font color=\"red\">  R: Letra B"
      ],
      "metadata": {
        "id": "1tzDcSFgaHzv"
      }
    },
    {
      "cell_type": "markdown",
      "source": [
        "**Aula 5**"
      ],
      "metadata": {
        "id": "gq-2sptlH_p6"
      }
    },
    {
      "cell_type": "markdown",
      "source": [
        "Questão 1) O psycopg2 é um framework para trabalhar com o Postgres no Python. Abaixo,\n",
        "apresentamos um programa que faz a inserção de dados na tabela AGENDA :\n",
        "01 import psycopg2\n",
        "02 conn = psycopg2.connect(database = \"postgres\", user = \"postgres\", password = \" senha123\", host =\n",
        "\"127.0.0.1\", port = \"5432\")\n",
        "03 print (\"Conexão com o Banco de Dados aberta com sucesso!\")\n",
        "04 cur = conn.cursor()\n",
        "05 cur.execute(\"\"\"INSERT INTO public.\"AGENDA\" (\"id\", \"nome\", \"telefone\") VALUES (1, 'Pessoa1',\n",
        "'02199999999')\"\"\")\n",
        "06 conn.commit()\n",
        "07 print(\"Inserção realizada com sucesso!\");\n",
        "08 conn.close()\n",
        "A respeito do código apresentado, selecione a opção correta.\n",
        "a) A única forma de executar uma operação de inserção em uma tabela é conforme a linha 5.\n",
        "\n",
        "b) Se o comando da linha 8 for removido, o programa vai funcionar corretamente.\n",
        "\n",
        "c) Esse programa está preparado para tratar exceções de conexão com o banco de dados.\n",
        "\n",
        "d) O cursor que é instanciado na linha 4 é fundamental para que o programa possa funcionar\n",
        "corretamente.\n",
        "\n",
        "e) Esse código está implementado usando programação orientada a objeto\n",
        "\n",
        "<font color = \"red\"> R: Letra D"
      ],
      "metadata": {
        "id": "zjl63w6pLEHV"
      }
    },
    {
      "cell_type": "markdown",
      "source": [
        "Questão 2) O Python possui diversos frameworks para fazer operações em um banco de dados.\n",
        "Entre esses frameworks está o psycopg2 que faz a interface com o Postgres.\n",
        "Em relação ao psycopg2, selecione a opção correta:\n",
        "a) Permite a criação de tabelas e a execução dos comandos de inserção, exclusão, modificação e consulta no banco de dados.\n",
        "\n",
        "b) Faz interface com outros Sistemas Gerenciadores de Banco de Dados (SGBDs), como o MySQL e Oracle.\n",
        "\n",
        "c) Para ser utilizado, é fundamental programar orientado a objetos.\n",
        "\n",
        "d) Os programas que utilizam o psycopg2 só vão funcionar se as exceções forem tratadas explicitamente.\n",
        "\n",
        "e) Os programas que utilizam o psycopg2 devem estar implementados seguindo a programação estruturada.\n",
        "\n",
        "<font color = \"red\"> R: Letra A"
      ],
      "metadata": {
        "id": "50mVpnmqLo5f"
      }
    },
    {
      "cell_type": "markdown",
      "source": [
        "**Aula 6**\n"
      ],
      "metadata": {
        "id": "PdXTZMp1bumi"
      }
    },
    {
      "cell_type": "markdown",
      "source": [
        "Questão 1) O SQLite é uma biblioteca que implementa as funções de gerenciamento de banco\n",
        "de dados de maneira autossuficiente, sem a necessidade de um computador servidor rodando\n",
        "um software servidor de banco de dados. Com o Python instalado, o SQLite também está\n",
        "instalado.\n",
        "Para abrir uma conexão do Python com o SQLite o código correto é:\n",
        "a) import sqlite3 conector = sqlite3.connect(\"exemplo.db\")\n",
        "\n",
        "b) import sqlite3 conector = sqlite3.connectar(\"exemplo.db\")\n",
        "\n",
        "c) import sqlite3 conector = sqlite3.abrir(\"exemplo.db\")\n",
        "\n",
        "d) import sqlite3 conector = sqlite3.server(\"exemplo.db\")\n",
        "\n",
        "e) import sqlite3 conector = sqlite3.open(\"exemplo.db\")\n",
        "\n",
        "<font color=\"red\"> R: Letra A"
      ],
      "metadata": {
        "id": "3C8xP7NPbzHc"
      }
    },
    {
      "cell_type": "markdown",
      "source": [
        "Questão 2) Qual é o comando em SQLite para realizar uma operação de criação de uma tabela no\n",
        "banco de dados ?\n",
        "a) commit\n",
        "\n",
        "b) close\n",
        "\n",
        "c) execute\n",
        "\n",
        "d) create\n",
        "\n",
        "e) insert\n",
        "\n",
        "<font color= \"red\"> R: Letra D"
      ],
      "metadata": {
        "id": "Ak6TKVrxby4k"
      }
    },
    {
      "cell_type": "markdown",
      "source": [
        "**Aula 7**\n"
      ],
      "metadata": {
        "id": "ZIrQe9vhJW9A"
      }
    },
    {
      "cell_type": "markdown",
      "source": [
        "Questão 1) A Linguagem de programação Python permite a inserção em massa de várias linhas\n",
        "em uma tabela de banco de dados usando uma única consulta SQL. Pode-se fazer isso usando\n",
        "uma consulta parametrizada com o comando:\n",
        "a) insertmany()\n",
        "\n",
        "b) execute()\n",
        "\n",
        "c) inserirmuitos()\n",
        "\n",
        "d) executemany()\n",
        "\n",
        "e) writeln()\n",
        "\n",
        "<font color = \"red\"> R: Letra D"
      ],
      "metadata": {
        "id": "xvfF0t5KJaGE"
      }
    },
    {
      "cell_type": "markdown",
      "source": [
        "Questão 2) Após a execução de comandos de manipulação de registros, tem-se que realizar a\n",
        "finalização da transação, e para isso usamos o comando:\n",
        "\n",
        "a) commit()\n",
        "\n",
        "b) rollback()\n",
        "\n",
        "c) persist()\n",
        "\n",
        "d) execute()\n",
        "\n",
        "e) run()\n",
        "\n",
        "<font color = \"red\"> R: Letra A"
      ],
      "metadata": {
        "id": "-mfz8ZBNKZop"
      }
    },
    {
      "cell_type": "markdown",
      "source": [
        "**Aula 8**\n"
      ],
      "metadata": {
        "id": "9dXn-aqHLGjo"
      }
    },
    {
      "cell_type": "markdown",
      "source": [
        "Questão 1) A linguagem de programação Python tem enorme facilidade e flexibilidade para a realização de consultas nos mais variados banco de dados. Qual comando abaixo é usado para rodar uma consulta:\n",
        "\n",
        "a) execute()\n",
        "\n",
        "b) rodar()\n",
        "\n",
        "c) executar()\n",
        "\n",
        "d) run()\n",
        "\n",
        "e) show()\n",
        "\n",
        "<font color = \"red\"> R: Letra A"
      ],
      "metadata": {
        "id": "TUlwPMpKLJo4"
      }
    },
    {
      "cell_type": "markdown",
      "source": [
        "Questão 2) A linguagem de programação Python tem enorme facilidade e flexibilidade para a realização de consultas nos mais variados banco de dados. Após executar a solicitação da consulta deve processar o resultado através dos métodos:\n",
        "a) fetchone, fetcal e fetchmany.\n",
        "\n",
        "b) fetread, fetchall e fetchmany.\n",
        "\n",
        "c) fetchone, fetchall e fetchmany.\n",
        "\n",
        "d) fetchone, fetchall e fetchmuch.\n",
        "\n",
        "e) fetchone, fetchall e fetchwrite.\n",
        "\n",
        "<font color = \"red\"> R: Letra C"
      ],
      "metadata": {
        "id": "_E64gwozME8x"
      }
    },
    {
      "cell_type": "code",
      "source": [],
      "metadata": {
        "id": "m69i1pP7J4FT"
      },
      "execution_count": null,
      "outputs": []
    }
  ]
}